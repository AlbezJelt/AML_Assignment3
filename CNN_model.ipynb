{
  "nbformat": 4,
  "nbformat_minor": 0,
  "metadata": {
    "language_info": {
      "codemirror_mode": {
        "name": "ipython",
        "version": 3
      },
      "file_extension": ".py",
      "mimetype": "text/x-python",
      "name": "python",
      "nbconvert_exporter": "python",
      "pygments_lexer": "ipython3",
      "version": "3.8.5-final"
    },
    "orig_nbformat": 2,
    "kernelspec": {
      "name": "python3",
      "display_name": "Python 3.8.5 64-bit ('AML_Assignment3': pipenv)",
      "metadata": {
        "interpreter": {
          "hash": "e445cbe3664576cc8c5604f9f080297b9fa9a0ddcfb514927255e02a430ac949"
        }
      }
    },
    "colab": {
      "name": "CNN_model.ipynb",
      "provenance": []
    },
    "accelerator": "GPU"
  },
  "cells": [
    {
      "cell_type": "markdown",
      "metadata": {
        "id": "wIF-EMiC3xuG"
      },
      "source": [
        "# AML Assignment 3\n",
        "\n",
        "Federico Alberici, n. 808058"
      ]
    },
    {
      "cell_type": "code",
      "metadata": {
        "id": "CY6yX0Y53_i8"
      },
      "source": [
        "!pip install livelossplot"
      ],
      "execution_count": null,
      "outputs": []
    },
    {
      "cell_type": "markdown",
      "metadata": {
        "id": "BAjFR6h43xuG"
      },
      "source": [
        "## Setup phase\n",
        "- import the needed library\n",
        "- set the seed for numpy and tensorflow backend"
      ]
    },
    {
      "cell_type": "code",
      "metadata": {
        "id": "ct72KCvl3xuG"
      },
      "source": [
        "# remove pillow package\n",
        "\n",
        "import numpy as np\n",
        "import tensorflow as tf\n",
        "from tensorflow import keras\n",
        "from tensorflow.keras import layers\n",
        "from skimage.util import random_noise\n",
        "from matplotlib import pyplot as plt\n",
        "from livelossplot import PlotLossesKeras\n",
        "\n",
        "np.random.seed(42)\n",
        "tf.random.set_seed(42)"
      ],
      "execution_count": null,
      "outputs": []
    },
    {
      "cell_type": "markdown",
      "metadata": {
        "id": "HOOVPnxd3xuG"
      },
      "source": [
        "## Data preparation phase"
      ]
    },
    {
      "cell_type": "markdown",
      "metadata": {
        "id": "cEV7fge9_MWb"
      },
      "source": [
        "First of all we proceed to import the MNIST dataset and then we scale the image into the [0;1] range to speed up the learning process. "
      ]
    },
    {
      "cell_type": "code",
      "metadata": {
        "id": "0sJsCcgz3xuG",
        "colab": {
          "base_uri": "https://localhost:8080/"
        },
        "outputId": "e52c807f-329a-4e16-8698-452c31d780bc"
      },
      "source": [
        "(x_train, y_train), (x_test, y_test) = keras.datasets.mnist.load_data()\n",
        "\n",
        "# Model/data parameters\n",
        "num_classes = 10\n",
        "input_shape = (28,28,1)\n",
        "\n",
        "# Scale images into the [0 1] range\n",
        "x_train = x_train.astype(\"float32\") / 255\n",
        "x_test = x_test.astype(\"float32\") / 255\n",
        "print(x_train.shape[0], \"train samples\")\n",
        "print(x_test.shape[0], \"test samples\")"
      ],
      "execution_count": null,
      "outputs": [
        {
          "output_type": "stream",
          "text": [
            "Downloading data from https://storage.googleapis.com/tensorflow/tf-keras-datasets/mnist.npz\n",
            "11493376/11490434 [==============================] - 0s 0us/step\n",
            "60000 train samples\n",
            "10000 test samples\n"
          ],
          "name": "stdout"
        }
      ]
    },
    {
      "cell_type": "markdown",
      "metadata": {
        "id": "VoLkB1ysAQUS"
      },
      "source": [
        "As regularization technique **data augmentation** is choosed because is a simple yet powerfull method to improve accuracy over validation and test set. \n",
        "In images below we can se the augmented data for the sample classified as a two:\n",
        "- the first is the original image;\n",
        "- in the second gaussian noise is added;\n",
        "- in the third salt and pepper noise is added."
      ]
    },
    {
      "cell_type": "code",
      "metadata": {
        "tags": [],
        "id": "kDGfQRJM3xuH",
        "colab": {
          "base_uri": "https://localhost:8080/",
          "height": 812
        },
        "outputId": "9d7b9ad4-d8e3-431d-a07b-15b12a464062"
      },
      "source": [
        "# Let's augment the dataset by adding new gaussian noised images\n",
        "def add_noise(img, mode:str):\n",
        "    noised_img = random_noise(image=img, mode=mode, seed=42, clip=True)\n",
        "    return noised_img\n",
        "\n",
        "# Visualize a noised image\n",
        "print(f'Original image (class={y_train[5]}):')\n",
        "plt.imshow(x_train[5]*255, cmap='gray')\n",
        "plt.show()\n",
        "\n",
        "print('With gaussian noise:')\n",
        "plt.imshow(add_noise(x_train[5], 'gaussian')*255, cmap='gray')\n",
        "plt.show()\n",
        "\n",
        "print('With s&p noise:')\n",
        "plt.imshow(add_noise(x_train[5], 's&p')*255, cmap='gray')\n",
        "plt.show()"
      ],
      "execution_count": null,
      "outputs": [
        {
          "output_type": "stream",
          "text": [
            "Original image (class=2):\n"
          ],
          "name": "stdout"
        },
        {
          "output_type": "display_data",
          "data": {
            "image/png": "[encoded data removed]",
            "text/plain": [
              "<Figure size 432x288 with 1 Axes>"
            ]
          },
          "metadata": {
            "tags": [],
            "needs_background": "light"
          }
        },
        {
          "output_type": "stream",
          "text": [
            "With gaussian noise:\n"
          ],
          "name": "stdout"
        },
        {
          "output_type": "display_data",
          "data": {
            "image/png": "[encoded data removed]",
            "text/plain": [
              "<Figure size 432x288 with 1 Axes>"
            ]
          },
          "metadata": {
            "tags": [],
            "needs_background": "light"
          }
        },
        {
          "output_type": "stream",
          "text": [
            "With s&p noise:\n"
          ],
          "name": "stdout"
        },
        {
          "output_type": "display_data",
          "data": {
            "image/png": "[encoded data removed]",
            "text/plain": [
              "<Figure size 432x288 with 1 Axes>"
            ]
          },
          "metadata": {
            "tags": [],
            "needs_background": "light"
          }
        }
      ]
    },
    {
      "cell_type": "markdown",
      "metadata": {
        "id": "3exn_KRaBNLO"
      },
      "source": [
        "For each training sample the gaussian and s&p noised version is added to the training set, tripling it's size."
      ]
    },
    {
      "cell_type": "code",
      "metadata": {
        "id": "jQWcyzHJ3xuH"
      },
      "source": [
        "x_train_noised = []\n",
        "y_train_noised = []\n",
        "for i in range(0,x_train.shape[0]):\n",
        "    imgs = [\n",
        "        x_train[i], \n",
        "        add_noise(x_train[i], 'gaussian'), \n",
        "        add_noise(x_train[i], 's&p')\n",
        "        ]\n",
        "    labels = [y_train[i], y_train[i], y_train[i]]\n",
        "    x_train_noised.extend(imgs)\n",
        "    y_train_noised.extend(labels)\n",
        "x_train_noised = np.array(x_train_noised)\n",
        "y_train_noised = np.array(y_train_noised)\n",
        "\n",
        "# Then shuffle it\n",
        "def shuffle_in_unison(a, b):\n",
        "    rng_state = np.random.get_state()\n",
        "    np.random.shuffle(a)\n",
        "    np.random.set_state(rng_state)\n",
        "    np.random.shuffle(b)\n",
        "\n",
        "shuffle_in_unison(x_train_noised, y_train_noised)"
      ],
      "execution_count": null,
      "outputs": []
    },
    {
      "cell_type": "code",
      "metadata": {
        "id": "0x9T5q3v3xuH",
        "colab": {
          "base_uri": "https://localhost:8080/"
        },
        "outputId": "a93e1ca5-1ab6-4c2e-d316-4295ae524813"
      },
      "source": [
        "# Make images with size (28,28,1)\n",
        "x_train_noised = np.expand_dims(x_train_noised, -1)\n",
        "x_train = np.expand_dims(x_train, -1)\n",
        "x_test = np.expand_dims(x_test, -1)\n",
        "print(\"x_train shape:\", x_train_noised.shape)\n",
        "print(x_train_noised.shape[0], \"train samples\")\n",
        "print(x_test.shape[0], \"test samples\")\n",
        "\n",
        "# convert class vectors to binary class matrices\n",
        "y_train_noised = keras.utils.to_categorical(y_train_noised, num_classes)\n",
        "y_train = keras.utils.to_categorical(y_train, num_classes)\n",
        "y_test = keras.utils.to_categorical(y_test, num_classes)"
      ],
      "execution_count": null,
      "outputs": [
        {
          "output_type": "stream",
          "text": [
            "x_train shape: (180000, 28, 28, 1)\n",
            "180000 train samples\n",
            "10000 test samples\n"
          ],
          "name": "stdout"
        }
      ]
    },
    {
      "cell_type": "markdown",
      "metadata": {
        "id": "24LquGGr3xuH"
      },
      "source": [
        "## Model definition\n",
        "\n",
        "The model is composed by 3 convolutional layer, followed by a single fully connected layer that map each input to the predicted class.\n",
        "Let's see each layer in details:\n",
        "\n",
        "### First CL\n",
        "Composed by a 1x1x6 filter for dimensionality reduction, followed by a 3x3x6 filter and a 3x3 max pooling layer.\n",
        "\n",
        "### Second CL\n",
        "Composed by a 1x1x14 filter for dimensionality reduction, followed by a 3x3x14 filter and a 2x2 max pooling layer. the number of filters is **approximately** (because size constraint) doubled compared to the previous layer.\n",
        "\n",
        "### Third CL\n",
        "Composed by a 1x1x28 filter for dimensionality reduction, followed by a 2x2x28 filter and a dropout layer with probability of 0.5. the number of filters is **exactly** doubled compared to the previous layer.\n",
        "\n",
        "### FC layer\n",
        "The last convolutional layer is flattened and than fully connected to the 10 neuron (equal to the number of classes) output layer, with softmax activation function.\n"
      ]
    },
    {
      "cell_type": "code",
      "metadata": {
        "id": "lY21wM7o3xuH",
        "colab": {
          "base_uri": "https://localhost:8080/"
        },
        "outputId": "35f135bf-c684-4ac0-a3df-48441fd02aa7"
      },
      "source": [
        "model = keras.Sequential(\n",
        "    [\n",
        "        keras.Input(shape=input_shape),\n",
        "        layers.Conv2D(6, kernel_size=(1, 1), activation=\"relu\"),\n",
        "        layers.Conv2D(6, kernel_size=(3, 3), activation=\"relu\"),\n",
        "        layers.MaxPooling2D(pool_size=(3, 3)),\n",
        "        layers.Conv2D(14, kernel_size=(1, 1), activation=\"relu\"),\n",
        "        layers.Conv2D(14, kernel_size=(3, 3), activation=\"relu\"),\n",
        "        layers.MaxPooling2D(pool_size=(2, 2)),\n",
        "        layers.Conv2D(28, kernel_size=(1, 1), activation=\"relu\"),\n",
        "        layers.Conv2D(28, kernel_size=(2, 2), activation=\"relu\"),\n",
        "        layers.Dropout(0.5),\n",
        "        layers.Flatten(),        \n",
        "        layers.Dense(num_classes, activation=\"softmax\"),\n",
        "    ]\n",
        ")\n",
        "\n",
        "model.summary()\n"
      ],
      "execution_count": null,
      "outputs": [
        {
          "output_type": "stream",
          "text": [
            "Model: \"sequential_3\"\n",
            "_________________________________________________________________\n",
            "Layer (type)                 Output Shape              Param #   \n",
            "=================================================================\n",
            "conv2d_18 (Conv2D)           (None, 28, 28, 6)         12        \n",
            "_________________________________________________________________\n",
            "conv2d_19 (Conv2D)           (None, 26, 26, 6)         330       \n",
            "_________________________________________________________________\n",
            "max_pooling2d_6 (MaxPooling2 (None, 8, 8, 6)           0         \n",
            "_________________________________________________________________\n",
            "conv2d_20 (Conv2D)           (None, 8, 8, 14)          98        \n",
            "_________________________________________________________________\n",
            "conv2d_21 (Conv2D)           (None, 6, 6, 14)          1778      \n",
            "_________________________________________________________________\n",
            "max_pooling2d_7 (MaxPooling2 (None, 3, 3, 14)          0         \n",
            "_________________________________________________________________\n",
            "conv2d_22 (Conv2D)           (None, 3, 3, 28)          420       \n",
            "_________________________________________________________________\n",
            "conv2d_23 (Conv2D)           (None, 2, 2, 28)          3164      \n",
            "_________________________________________________________________\n",
            "dropout_3 (Dropout)          (None, 2, 2, 28)          0         \n",
            "_________________________________________________________________\n",
            "flatten_3 (Flatten)          (None, 112)               0         \n",
            "_________________________________________________________________\n",
            "dense_3 (Dense)              (None, 10)                1130      \n",
            "=================================================================\n",
            "Total params: 6,932\n",
            "Trainable params: 6,932\n",
            "Non-trainable params: 0\n",
            "_________________________________________________________________\n"
          ],
          "name": "stdout"
        }
      ]
    },
    {
      "cell_type": "markdown",
      "metadata": {
        "id": "40_T4ni8G9Lh"
      },
      "source": [
        "## Model training and results visualization\n",
        "\n",
        "Finally the model is trained and the loss and the accuracy is plotted in live to visualize better how the training is going.\n",
        "As optimizer Adam is choosed for is well known great performance in most of learning tasks. Actually the learning rate is a little bit smaller from the keras default (0.001) to stabilize the learning when the optimization is converging. The small learning rate is not a problem because the model is limited to only 7k parameter, so the iterations are very fast."
      ]
    },
    {
      "cell_type": "code",
      "metadata": {
        "id": "hp3YOuvv3xuH",
        "colab": {
          "base_uri": "https://localhost:8080/",
          "height": 704
        },
        "outputId": "8954b12c-a23e-4546-98fe-fb82171c7e4b"
      },
      "source": [
        "batch_size = 64\n",
        "epochs = 50\n",
        "model.compile(loss=\"categorical_crossentropy\", optimizer=keras.optimizers.Adam(learning_rate=0.0005), metrics=[\"accuracy\"])\n",
        "model.fit(\n",
        "    x_train_noised, \n",
        "    y_train_noised, \n",
        "    batch_size=batch_size, \n",
        "    epochs=epochs, \n",
        "    validation_split=0.1,\n",
        "    verbose=0,\n",
        "    callbacks=[PlotLossesKeras()])"
      ],
      "execution_count": null,
      "outputs": [
        {
          "output_type": "display_data",
          "data": {
            "image/png": "[encoded data removed]",
            "text/plain": [
              "<Figure size 864x576 with 2 Axes>"
            ]
          },
          "metadata": {
            "tags": [],
            "needs_background": "light"
          }
        },
        {
          "output_type": "stream",
          "text": [
            "accuracy\n",
            "\ttraining         \t (min:    0.839, max:    0.984, cur:    0.984)\n",
            "\tvalidation       \t (min:    0.956, max:    0.991, cur:    0.991)\n",
            "Loss\n",
            "\ttraining         \t (min:    0.049, max:    0.501, cur:    0.049)\n",
            "\tvalidation       \t (min:    0.030, max:    0.144, cur:    0.030)\n"
          ],
          "name": "stdout"
        },
        {
          "output_type": "execute_result",
          "data": {
            "text/plain": [
              "<tensorflow.python.keras.callbacks.History at 0x7f3f9633ff28>"
            ]
          },
          "metadata": {
            "tags": []
          },
          "execution_count": 17
        }
      ]
    },
    {
      "cell_type": "markdown",
      "metadata": {
        "id": "n2RdRK5DI_Kw"
      },
      "source": [
        "The accuracy obtained in the test set is close to 99%, a very good result! Maybe we can get a little more just by adding more epochs in the training phase, always being careful for overfitting."
      ]
    },
    {
      "cell_type": "code",
      "metadata": {
        "id": "vOumJV-e3xuH",
        "colab": {
          "base_uri": "https://localhost:8080/"
        },
        "outputId": "c8344894-2f08-4031-effe-9c8ebd636db7"
      },
      "source": [
        "model.evaluate(x_test, y_test)"
      ],
      "execution_count": null,
      "outputs": [
        {
          "output_type": "stream",
          "text": [
            "313/313 [==============================] - 1s 2ms/step - loss: 0.0364 - accuracy: 0.9892\n"
          ],
          "name": "stdout"
        },
        {
          "output_type": "execute_result",
          "data": {
            "text/plain": [
              "[0.036363713443279266, 0.9891999959945679]"
            ]
          },
          "metadata": {
            "tags": []
          },
          "execution_count": 18
        }
      ]
    }
  ]
}